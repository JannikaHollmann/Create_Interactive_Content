{
 "cells": [
  {
   "cell_type": "markdown",
   "id": "a9420de7",
   "metadata": {},
   "source": [
    "# Styling"
   ]
  }
 ],
 "metadata": {
  "language_info": {
   "name": "python"
  }
 },
 "nbformat": 4,
 "nbformat_minor": 5
}
