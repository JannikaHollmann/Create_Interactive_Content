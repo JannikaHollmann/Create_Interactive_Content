{
 "cells": [
  {
   "cell_type": "markdown",
   "id": "c9ebfd8c",
   "metadata": {},
   "source": [
    "# Build"
   ]
  }
 ],
 "metadata": {
  "language_info": {
   "name": "python"
  }
 },
 "nbformat": 4,
 "nbformat_minor": 5
}
