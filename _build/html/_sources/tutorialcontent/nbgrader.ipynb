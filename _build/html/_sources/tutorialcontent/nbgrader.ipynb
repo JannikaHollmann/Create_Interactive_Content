{
 "cells": [
  {
   "cell_type": "markdown",
   "id": "75d153ed",
   "metadata": {},
   "source": [
    "# nb Grader"
   ]
  }
 ],
 "metadata": {
  "language_info": {
   "name": "python"
  }
 },
 "nbformat": 4,
 "nbformat_minor": 5
}
