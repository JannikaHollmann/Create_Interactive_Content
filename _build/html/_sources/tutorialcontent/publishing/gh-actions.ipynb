{
 "cells": [
  {
   "cell_type": "markdown",
   "id": "f827f80a",
   "metadata": {},
   "source": [
    "# GitHub-Actions"
   ]
  }
 ],
 "metadata": {
  "language_info": {
   "name": "python"
  }
 },
 "nbformat": 4,
 "nbformat_minor": 5
}
