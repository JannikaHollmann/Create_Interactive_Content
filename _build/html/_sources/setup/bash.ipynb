{
 "cells": [
  {
   "cell_type": "markdown",
   "id": "d052fbfc",
   "metadata": {},
   "source": [
    "# bash"
   ]
  }
 ],
 "metadata": {
  "language_info": {
   "name": "python"
  }
 },
 "nbformat": 4,
 "nbformat_minor": 5
}
