{
 "cells": [
  {
   "cell_type": "markdown",
   "metadata": {},
   "source": [
    "# Summary/Discussion\n",
    "\n",
    "You almost made it!\n",
    "Now, let's sum up, what we achieved in these 90 minutes:\n",
    "\n",
    "## What did we achieve? 🏁\n",
    "- you know about the advantages of open educational resources\n",
    "- you know about the advantages of using open source software for creating open/accessible learning materials\n",
    "- you have a gist about the possibilities of working with Jupyter Book and GitHub/GitHub pages for creating open educational resources\n",
    "- you are able to set up your own website with the help of our template\n",
    "- you set up your own website\n",
    "\n",
    "So, that's great! You did very well!👏\n",
    "\n",
    "## Discussion 💭\n",
    "\n",
    "Is there anything about creating educational resources with the tools we just showed you, that you would like to discuss?\n",
    "Now is the time; go for it!\n",
    "\n",
    "## Thank you! 🫶\n",
    "\n",
    "Thank you very much for your great participation! We hope you had fun, learned some new stuff and acquired some new skills. You did very well and we are very happy to receive feedback!\n",
    "\n"
   ]
  }
 ],
 "metadata": {
  "language_info": {
   "name": "python"
  }
 },
 "nbformat": 4,
 "nbformat_minor": 2
}
