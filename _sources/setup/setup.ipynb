{
 "cells": [
  {
   "cell_type": "markdown",
   "id": "cdb424f7",
   "metadata": {},
   "source": [
    "# Setup: Before Creating Content\n",
    "\n",
    "Fortunately and unfortunately comitting to open source projects usually requires more in-depth knowledge than just pushing some slides onto dropbox and sending a link to your students.\n",
    "\n",
    "To replicate the showcased websites here we'll therefore be using some tools that you might not be familliar with. The following section will illustrate exatly what we need, how to install the necessary tools and where to go for further information.\n",
    "\n",
    "## Required Software\n",
    "\n",
    "- We'll need the following\n",
    "- a [Github](https://github.com/) account\n",
    "\n",
    "- a version control system\n",
    "    - [git (command line tool)](https://git-scm.com) and *Bash*\n",
    "\n",
    "        or \n",
    "    \n",
    "    - [GitKraken](https://www.gitkraken.com/)\n",
    "\n",
    "- An IDE or text editor: e.g. VSCode (recommended)\n",
    "    - [VsCode](https://code.visualstudio.com/)\n",
    "    \n",
    "        or\n",
    "    \n",
    "    - [Jupyter (to create interactive materials)](https://jupyter.org/)\n",
    "    \n",
    "\n",
    "For this tutorial we will be relying on the [Gitkraken client](https://www.gitkraken.com/)**, a software package icnluding a Graphical-user-interface to manage all your git/Github projects. If you're not too familiar with coding or simply prefer to have a visual overview of the exact changes you've made, your version history, etc., this might just be the better choice for you, than using Git via the command line.\n",
    "\n",
    "Simply download and install the [Gitkraken client](https://help.gitkraken.com/gitkraken-client/how-to-install/) and [connect it to your online Github profile](https://www.youtube.com/watch?v=5nhNfMcczlQ).\n"
   ]
  },
  {
   "cell_type": "markdown",
   "id": "a9aeea64",
   "metadata": {},
   "source": [
    "### Setting up a GitHub account\n",
    "\n",
    "First things first, let us set up a GitHub Account. \n",
    "\n",
    "**1. Go to the GitHub website**: Open a web browser and navigate to the [github.com](https://github.com/).\n",
    "\n",
    "**2. Click on the \"Sign up\"** button located in the upper-right corner.\n",
    "\n",
    "**3. Fill out the registration form**: Fill out the required information and choose a username. Choose your username carefully, as your username will be included in the link to the website we're going to build and will be publicly displayed!\n",
    "\n",
    "**4. Verify your email address**: Check your email inbox and click on the verification link sent by GitHub.\n",
    "\n",
    "**5. Customize your profile**: Fill out your profile information. This will help others to find and connect with you on GitHub.\n",
    "\n",
    "</br>\n",
    "\n",
    "**And that's it!**\n",
    "You can now use your new GitHub account to store your code online or collaborate and share your projects with the world!\n",
    "\n"
   ]
  },
  {
   "cell_type": "markdown",
   "id": "741633db",
   "metadata": {},
   "source": [
    "### **Check if you are ready**\n",
    "\n",
    "* Can you open a text editor?\n",
    "* Can you go to your GitHub account?\n",
    "    \n",
    "* A.) When you open a terminal on your system and type `git --version`, does it output the version number? (macOS / Linux: you might need to run this: `conda install -c anaconda git`)\n",
    "    \n",
    "    or \n",
    "    \n",
    "* B.) Open Gitkraken and create a new repository (called initiating a new repository, under \"Start a local project\")"
   ]
  }
 ],
 "metadata": {
  "kernelspec": {
   "display_name": "Python 3 (ipykernel)",
   "language": "python",
   "name": "python3"
  },
  "language_info": {
   "codemirror_mode": {
    "name": "ipython",
    "version": 3
   },
   "file_extension": ".py",
   "mimetype": "text/x-python",
   "name": "python",
   "nbconvert_exporter": "python",
   "pygments_lexer": "ipython3",
   "version": "3.11.6"
  },
  "vscode": {
   "interpreter": {
    "hash": "d560ba8d507c54a01f2f7ed33b1ad7c3fc56f06723f11412b74cfa1ed27a6faa"
   }
  }
 },
 "nbformat": 4,
 "nbformat_minor": 5
}
